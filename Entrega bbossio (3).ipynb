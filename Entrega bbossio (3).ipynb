{
 "cells": [
  {
   "cell_type": "markdown",
   "id": "3dee788d-0355-4bf4-906b-1442a104cb36",
   "metadata": {},
   "source": [
    "                                             Trabajo Final\n",
    "                                        \"Datos para Siembra\"\n",
    "Resumen Se trata de informar condiciones optimas de cultivo en Argentia a partir de la semilla propuesta por el usuario.\n",
    "\n",
    "Índice\n",
    "\n",
    "1- Introducción 2- Objetivos 3- Metodología 4- Herramientas y Tecnologías 5- Implementación\n",
    "\n",
    "Introducción: El primer prompt brinda un detalle sobre la mejor ubicación y fecha de siembra en el país,como así también dos tips a tener en cuenta . En segunda instancia se genera una imagen con las caracteristicas del terreno en la fecha planteada.\n",
    "\n",
    "Objetivos: Que el usuario utilice el prompt para saber donde y cuando sembrar.\n",
    "\n",
    "Metodología: Utilizar GPT-3.5 para generar la información en base a la semilla consultada por el usuario.\n",
    "\n",
    "Herramientas y Tecnologías Python OpenAI GPT-3.5-turbo y de imagen. La imagen generada se guarda en una sub carpeta de la misma ubicación del repositorio."
   ]
  },
  {
   "cell_type": "code",
   "execution_count": 1,
   "id": "f1e1fdc9-82c1-406d-a90c-8baec98b4bb3",
   "metadata": {},
   "outputs": [],
   "source": [
    "# Importación de las dependencias de OpenAI\n",
    "import openai\n",
    "import requests\n",
    "import os\n",
    "from io import BytesIO\n",
    "import csv\n",
    "\t\t\n",
    "#openai.api_key = \"\""
   ]
  },
  {
   "cell_type": "code",
   "execution_count": 3,
   "id": "5fa9f594-936d-4c21-9fc9-f5575dcc8984",
   "metadata": {},
   "outputs": [],
   "source": [
    " #Creación de solicitud\n",
    "context = \"Eres ingeniero agronomico especialista en suelo argentino, debes recomendar en que zona y en que época del año sembrar en base a la semilla que te indique el usuario y debes agregar dos tips que aseguren una buena cosecha. En no mas de 200 tokens\""
   ]
  },
  {
   "cell_type": "code",
   "execution_count": 4,
   "id": "7fd7c830-83eb-4554-8729-b4411c4730d0",
   "metadata": {},
   "outputs": [
    {
     "name": "stdin",
     "output_type": "stream",
     "text": [
      "Ingresa la semilla:  Girasol\n"
     ]
    },
    {
     "name": "stdout",
     "output_type": "stream",
     "text": [
      "\n",
      "Recomendación de siembra:\n",
      "Para sembrar girasol en Argentina, te recomiendo sembrar en la región pampeana durante la primavera, específicamente en los meses de septiembre u octubre. Esta zona y época del año ofrecen las condiciones ideales de temperatura y humedad para el desarrollo óptimo de la planta.\n",
      "\n",
      "Dos tips para asegurar una buena cosecha de girasol son:\n",
      "1. Realizar un análisis de suelo previo a la siembra para determinar los niveles de nutrientes y ajustar la fertilización según las necesidades de la planta.\n",
      "2. Monitorear regularmente el cultivo para detectar posibles enfermedades o plagas a tiempo y aplicar medidas de control adecuadas para proteger la producción.\n",
      "\n",
      "Resumen de la recomendación:\n",
      "Para sembrar girasol en Argentina, se recomienda sembrar en la región pampeana en primavera, específicamente en septiembre u octubre, para condiciones óptimas. Dos tips: análisis de su\n",
      "\n",
      "Imagen generada:\n",
      "https://oaidalleapiprodscus.blob.core.windows.net/private/org-HrG5HNoql8wMwJRTXGZJskyx/user-xAVbWZaZ1ERUeVYqOF9JvUhz/img-HQMQDMFn9IAcZOPjPyjxbnVX.png?st=2024-11-24T20%3A08%3A30Z&se=2024-11-24T22%3A08%3A30Z&sp=r&sv=2024-08-04&sr=b&rscd=inline&rsct=image/png&skoid=d505667d-d6c1-4a0a-bac7-5c84a87759f8&sktid=a48cca56-e6da-484e-a814-9c849652bcb3&skt=2024-11-24T21%3A08%3A30Z&ske=2024-11-25T21%3A08%3A30Z&sks=b&skv=2024-08-04&sig=K/vdyezdcOuAHm1sHRuJiiZJ0pQNQK%2B0Qi78E/eVy6w%3D\n"
     ]
    }
   ],
   "source": [
    "# Solicitud de semilla\n",
    "def recomendar_siembra():\n",
    "    semilla = input(\"Ingresa la semilla: \") \n",
    "\n",
    "    # Genero un prompt con la semilla ingresada\n",
    "    prompt = f\"Recomienda dónde y cuándo sembrar {semilla} y da dos tips para una buena cosecha.\"\n",
    "\n",
    "    # Crear la solicitud\n",
    "    conversation = [\n",
    "        {\"role\": \"system\", \"content\": context},\n",
    "        {\"role\": \"user\", \"content\": prompt}\n",
    "    ]\n",
    "\n",
    "    # Realizar la solicitud a la API de OpenAI\n",
    "    response = openai.ChatCompletion.create(\n",
    "        model=\"gpt-3.5-turbo\",\n",
    "        messages=conversation,\n",
    "        max_tokens=200,\n",
    "        temperature=0  \n",
    "    )\n",
    "\n",
    "   # Guardo la recomendacion para usarla en sumarización\n",
    "    recomendacion = response.choices[0].message['content'].strip()\n",
    "    \n",
    "    # Devolver la recomendación generada\n",
    "    print(\"\\nRecomendación de siembra:\")\n",
    "    print(recomendacion)\n",
    "    \n",
    "    return recomendacion  # Retorna la recomendación \n",
    "    \n",
    "    # Llamar a la función y guardar el resultado en una variable\n",
    "recomendacion_siembra = recomendar_siembra()\n",
    "\n",
    "\n",
    "# Sumarización de la recomendación\n",
    "def resumir_recomendacion(recomendacion):\n",
    "    # Solicitar a la API de OpenAI que resuma la recomendación\n",
    "    response = openai.ChatCompletion.create(\n",
    "        model=\"gpt-3.5-turbo\",\n",
    "        messages=[\n",
    "            {\"role\": \"system\", \"content\": \"Resume el siguiente texto en máximo 50 tokens:\"},\n",
    "            {\"role\": \"user\", \"content\": recomendacion}\n",
    "        ],\n",
    "        max_tokens=50, \n",
    "        temperature=0.5\n",
    "    )\n",
    "    \n",
    "    # Obtener la respuesta resumida\n",
    "    resumen = response.choices[0].message['content'].strip()\n",
    "    print(\"\\nResumen de la recomendación:\")\n",
    "    print(resumen)\n",
    "    \n",
    "    return resumen\n",
    "\n",
    "# Llamar a la función para resumir la recomendación\n",
    "resumen_siembra = resumir_recomendacion(recomendacion_siembra)\n",
    "\n",
    "# Crear la imagen con la recomendación resumida\n",
    "def generar_imagen(resumen):\n",
    "    # Crear una descripción visual clara a partir del resumen\n",
    "    prompt_imagen = f\"Ilustración de la recomendación agrícola: {resumen}. Un campo argentino, mostrando siembra y condiciones ideales, con consejos agrícolas visibles.\"\n",
    "    \n",
    "    # Solicitud a la API de DALL-E\n",
    "    response = openai.Image.create(\n",
    "        prompt=prompt_imagen,\n",
    "        n=1,\n",
    "        size=\"512x512\"\n",
    "    )\n",
    "    \n",
    "    # Mostrar la URL de la imagen generada\n",
    "    print(\"\\nImagen generada:\")\n",
    "    print(response[\"data\"][0][\"url\"])\n",
    "\n",
    "# Llamar a la función para generar la imagen\n",
    "generar_imagen(resumen_siembra)"
   ]
  },
  {
   "cell_type": "code",
   "execution_count": null,
   "id": "b011548c-efb7-4855-8a60-4d4791137184",
   "metadata": {},
   "outputs": [],
   "source": []
  }
 ],
 "metadata": {
  "kernelspec": {
   "display_name": "Python 3 (ipykernel)",
   "language": "python",
   "name": "python3"
  },
  "language_info": {
   "codemirror_mode": {
    "name": "ipython",
    "version": 3
   },
   "file_extension": ".py",
   "mimetype": "text/x-python",
   "name": "python",
   "nbconvert_exporter": "python",
   "pygments_lexer": "ipython3",
   "version": "3.10.15"
  }
 },
 "nbformat": 4,
 "nbformat_minor": 5
}
